{
 "cells": [
  {
   "cell_type": "markdown",
   "id": "eccf0e4d",
   "metadata": {},
   "source": [
    "# Section 1 - Introduction\n",
    "The goal of this notebook is to get started up with OpenAI's Gymnasium library and to implement a simple Q-Learning Reinforcement Learning algorithm in the Lunar Lander environment.\n",
    "\n",
    "## Section 1.1 - Agent-Environment Interface\n",
    "Recall the components of a RL problem:\n",
    "\n",
    "![agent_environment_interface](Images/agent_environment_interface.png)\n",
    "*Reference: Sutton, R. S., Bach, F., &amp; Barto, A. G. (2018). ch3.1, pg 64. In Reinforcement learning: An introduction. essay, MIT Press Ltd.*\n",
    "\n",
    "The *Agent* is the entity which interacts with the environment and learns to behave in a way that maximizes its cumulative rewards. The *Environment* is everything outside the *Agent*. It is the world that the *Agent* interacts with and learns from.\n",
    "\n",
    "## Section 1.2 - Markov Decision Process (MDP)\n",
    "[Markov Decision Processes](https://en.wikipedia.org/wiki/Markov_decision_process) (MDP) are the foundation of Reinforcement Learning. MDPs are mathematical frameworks for modelling sequential decision making problems where outcomes are partly random and partly under the control of a decision-maker, or an *Agent*.\n",
    "\n",
    "\n",
    "A Markov Decision Process is defined by the tuple $<S, A, T, R>$ where:\n",
    "- $S$ is the set of states within the environment\n",
    "- $A$ is the set of possible actions that can be performed by the agent within the environment\n",
    "- $T$ is the transitional probability model of transitioning from a state to another when taking a particular action\n",
    "- $R$ is the reward function given desired state and action\n",
    "\n",
    "Additionally, $\\pi$ is the policy that seeks to solve the MDP by maximizing the cumulative reward obtained. In simpler terms, it maps states to actions, indicating the best action $a$ to take while in state $s$.\n",
    "\n",
    "# Section 2 - Gym vs. Gymnasium\n",
    "Not to be confused between OpenAI [Gym](https://github.com/openai/gym) and [Gymnasium](https://github.com/Farama-Foundation/Gymnasium) maintained by Farama Foundation - **Gym** is a toolkit for developing and comparing RL algorithms while providing a wide range of environments while **Gymnasium** is a library built on top of TensorFlow, focused on providing environments for Deep RL research. It may be important to note that **Gym** is no longer being actively maintained, while **Gymnasium** is being actively maintained by the Farama Foundation.\n",
    "\n",
    "**In this notebook, we would be utilizing Gymnasium**.\n",
    "\n",
    "## Section 2.1 - Environment: Taxi\n",
    "### Section 2.1.1 Description\n",
    "The environment we would be using would be the [Taxi](https://gymnasium.farama.org/environments/toy_text/taxi/) environment packaged in **Gymnasium**.\n",
    "\n",
    "![SegmentLocal](Images/taxi.gif)\n",
    "\n",
    "Based on the [documentation](https://gymnasium.farama.org/environments/toy_text/taxi/)\n",
    "\n",
    "![taxi-information](Images/taxi_information.png)\n",
    "\n",
    "*Description: There are four designated pick-up and drop-off locations (Red, Green, Yellow and Blue) in the 5x5 grid world. The taxi starts off at a random square and the passenger at one of the designated locations.*\n",
    "\n",
    "*The goal is move the taxi to the passenger’s location, pick up the passenger, move to the passenger’s desired destination, and drop off the passenger. Once the passenger is dropped off, the episode ends.*\n",
    "\n",
    "*The player receives positive rewards for successfully dropping-off the passenger at the correct location. Negative rewards for incorrect attempts to pick-up/drop-off passenger and for each step where another reward is not received.*\n",
    "\n",
    "### Section 2.1.2 - Action Space\n",
    "There are 6 discrete actions available:\n",
    "- 0: Move south (down)\n",
    "- 1: Move north (up)\n",
    "- 2: Move east (right)\n",
    "- 3: Move west (left)\n",
    "- 4: Pickup passenger\n",
    "- 5: Drop off passenger\n",
    "\n",
    "### Section 2.1.3 - Observation Space\n",
    "There are 500 discrete states since there are 25 taxi positions, 5 possible locations of the passenger (including the case when the passenger is in the taxi), and 4 destination locations.\n",
    "\n",
    "Destination on the map are represented with the first letter of the color.\n",
    "\n",
    "Passenger locations:\n",
    "- 0: Red\n",
    "- 1: Green\n",
    "- 2: Yellow\n",
    "- 3: Blue\n",
    "- 4: In taxi\n",
    "\n",
    "### Section 2.1.4 - Rewards\n",
    "- -1 per step unless other reward is triggered.\n",
    "- +20 delivering passenger.\n",
    "- -10 executing “pickup” and “drop-off” actions illegally.\n",
    "\n",
    "An action that results a noop, like moving into a wall, will incur the time step penalty. Noops can be avoided by sampling the action_mask returned in info. The episode receives additional reward of -100 or +100 for crashing or landing safely respectively. Episode is considered a solution if it scores at least 200 points.\n",
    "\n",
    "### Section 2.1.5 - Starting States\n",
    "The episode starts with the player in a random state.\n",
    "\n",
    "### Section 2.1.6 - Episode Termination\n",
    "The episode ends if the following happens:\n",
    "\n",
    "- Termination: 1. The taxi drops off the passenger.\n",
    "- Truncation (when using the time_limit wrapper): 1. The length of the episode is 200."
   ]
  },
  {
   "cell_type": "markdown",
   "id": "1652222b",
   "metadata": {},
   "source": [
    "# Section 3 - Setting Up\n",
    "First, let's install the Gymnasium package containing the **Lunar Lander** environment."
   ]
  },
  {
   "cell_type": "code",
   "execution_count": 4,
   "id": "9e760ab8",
   "metadata": {},
   "outputs": [
    {
     "name": "stdout",
     "output_type": "stream",
     "text": [
      "Collecting gymnasium[box2d]\n",
      "  Obtaining dependency information for gymnasium[box2d] from https://files.pythonhosted.org/packages/a8/4d/3cbfd81ed84db450dbe73a89afcd8bc405273918415649ac6683356afe92/gymnasium-0.29.1-py3-none-any.whl.metadata\n",
      "  Using cached gymnasium-0.29.1-py3-none-any.whl.metadata (10 kB)\n",
      "Collecting numpy>=1.21.0 (from gymnasium[box2d])\n",
      "  Obtaining dependency information for numpy>=1.21.0 from https://files.pythonhosted.org/packages/d2/2f/b42860931c1479714201495ffe47d74460a916ae426a21fc9b68c5e329aa/numpy-1.26.0-cp311-cp311-macosx_10_9_x86_64.whl.metadata\n",
      "  Using cached numpy-1.26.0-cp311-cp311-macosx_10_9_x86_64.whl.metadata (53 kB)\n",
      "Collecting cloudpickle>=1.2.0 (from gymnasium[box2d])\n",
      "  Using cached cloudpickle-2.2.1-py3-none-any.whl (25 kB)\n",
      "Collecting typing-extensions>=4.3.0 (from gymnasium[box2d])\n",
      "  Obtaining dependency information for typing-extensions>=4.3.0 from https://files.pythonhosted.org/packages/ec/6b/63cc3df74987c36fe26157ee12e09e8f9db4de771e0f3404263117e75b95/typing_extensions-4.7.1-py3-none-any.whl.metadata\n",
      "  Using cached typing_extensions-4.7.1-py3-none-any.whl.metadata (3.1 kB)\n",
      "Collecting farama-notifications>=0.0.1 (from gymnasium[box2d])\n",
      "  Using cached Farama_Notifications-0.0.4-py3-none-any.whl (2.5 kB)\n",
      "Collecting box2d-py==2.3.5 (from gymnasium[box2d])\n",
      "  Using cached box2d_py-2.3.5-cp311-cp311-macosx_10_9_x86_64.whl\n",
      "Collecting pygame>=2.1.3 (from gymnasium[box2d])\n",
      "  Obtaining dependency information for pygame>=2.1.3 from https://files.pythonhosted.org/packages/fd/0b/168c4b75aee4e25d58386b48f9833a0765fd251f456219abb70fc403db81/pygame-2.5.1-cp311-cp311-macosx_10_9_x86_64.whl.metadata\n",
      "  Using cached pygame-2.5.1-cp311-cp311-macosx_10_9_x86_64.whl.metadata (13 kB)\n",
      "Collecting swig==4.* (from gymnasium[box2d])\n",
      "  Using cached swig-4.1.1-py2.py3-none-macosx_10_9_x86_64.whl (1.7 MB)\n",
      "Using cached numpy-1.26.0-cp311-cp311-macosx_10_9_x86_64.whl (20.6 MB)\n",
      "Using cached pygame-2.5.1-cp311-cp311-macosx_10_9_x86_64.whl (12.9 MB)\n",
      "Using cached typing_extensions-4.7.1-py3-none-any.whl (33 kB)\n",
      "Using cached gymnasium-0.29.1-py3-none-any.whl (953 kB)\n",
      "Installing collected packages: swig, farama-notifications, box2d-py, typing-extensions, pygame, numpy, cloudpickle, gymnasium\n",
      "  Attempting uninstall: typing-extensions\n",
      "    Found existing installation: typing_extensions 4.1.1\n",
      "    Uninstalling typing_extensions-4.1.1:\n",
      "      Successfully uninstalled typing_extensions-4.1.1\n",
      "Successfully installed box2d-py-2.3.5 cloudpickle-2.2.1 farama-notifications-0.0.4 gymnasium-0.29.1 numpy-1.26.0 pygame-2.5.1 swig-4.1.1 typing-extensions-4.7.1\n"
     ]
    }
   ],
   "source": [
    "!pip install 'gymnasium[box2d]'"
   ]
  },
  {
   "cell_type": "code",
   "execution_count": 5,
   "id": "b8be6080",
   "metadata": {},
   "outputs": [],
   "source": [
    "# import gymnasium as gym"
   ]
  },
  {
   "cell_type": "code",
   "execution_count": 6,
   "id": "4bdd9403",
   "metadata": {},
   "outputs": [],
   "source": [
    "\"\"\" # Uncomment this to test only\n",
    "env = gym.make('LunarLander-v2', render_mode='human')\n",
    "observation, info = env.reset()\n",
    "episodes = 0\n",
    "\n",
    "while episodes < 5:\n",
    "    action = env.action_space.sample()\n",
    "    observation, reward, terminated, truncated, info = env.step(action)\n",
    "    \n",
    "    if terminated or truncated:\n",
    "        observation, info = env.reset()\n",
    "        episodes += 1\n",
    "    \n",
    "env.close()\n",
    "\"\"\""
   ]
  },
  {
   "attachments": {
    "image.png": {
     "image/png": "[encoded data removed]"
    }
   },
   "cell_type": "markdown",
   "id": "d892b390",
   "metadata": {},
   "source": [
    "# Section 4 Q-Learning\n",
    "## Section 4.1 - Return\n",
    "The *Return* is defined as the total discounted reward from the current time-step.\n",
    "$$\n",
    "G_t = R_{t+1} + \\gamma R_{t+2} + ... = \\sum^{\\infty}_{k=0}\\gamma^kR_{t+k+1}\n",
    "$$\n",
    "where $\\gamma$ is the discount factor.\n",
    "\n",
    "## Section 4.2 - Q-Value\n",
    "The Q-value is defined as the expected return of taking a particular action in a particular state while policy a particular policy.\n",
    "$$\n",
    "q_\\pi(s,a) := \\mathop{\\mathbb{E}}_\\pi(G_t | S_t=s, A_t=a) \\\\\n",
    "= \\mathop{\\mathbb{E}}_\\pi[\\sum^{\\infty}_{k=0}\\gamma^kR_{t+k+1} | S_t=s]\n",
    "$$\n",
    "Under the optimal policy, the Bellman Optimality Equation is satisfied:\n",
    "$$\n",
    "q_*(s,a) := \\mathop{\\mathbb{E}}[R_{t+1}+\\gamma \\max_{a'}q_*(s',a')]\n",
    "$$\n",
    "## Section 4.3 - Q-Learning Algorithm\n",
    "Q-Learning is a *model-free*, *policy-free* Reinforcement Learning algorithm which seeks to learn the optimal policy by estimating the Q-value(state-action pair) function represented in the Bellman Optimality Equation above. The algorithm is *model-free* as it does not rely on a transitional probablity model, and *policy-free* as it follows a greedy policy instead of one of its own.\n",
    "\n",
    "Learning can be done iteratively by storing all Q-values in a table that will be updated at each time step using the Q-Learning iteration:\n",
    "$$\n",
    "q^\\text{new}(s,a) = (1-\\alpha)\\overbrace{q(s,a)}^\\text{old value} + \\alpha\\underbrace{(R_{t+1}+\\gamma\\max_{a'}q(s',a'))}_\\text{learned value}\n",
    "$$\n",
    "\n",
    "$\\alpha$ represents the *learning rate*, a hyperparameter which controls the convergence.\n",
    "\n",
    "## Section 4.4 - Exploration Exploitation Tradeoff\n",
    "The exploration-exploitation tradeoff is a dilemma which many domains face. In Reinforcement Learning, *Exploration* refers to taking an action at every time-step which allows the agent to gain more knowledge with the possiblity of discovering an action netting more returns. *Exploitation* on the other hand focuses on **taking the action currently known to net the highest returns** at every time-step.\n",
    "\n",
    "*Exploration* is important as it helps us to avoid converging to a local maximum, which is usually far from the optimal solution. To handle this, we use a threshold which decay every episode using [exponential decay](https://en.wikipedia.org/wiki/Exponential_decay):\n",
    "$$\n",
    "N(t) = N_0e^{-\\lambda t}\n",
    "$$\n",
    "*Where $N_0$ is the initial value and $\\lambda$ is the decay constant.*\n",
    "\n",
    "\n",
    "![Images/exponential_decay.png](attachment:image.png)\n",
    "<center>Exponential Decay curves</center><br>\n",
    "\n",
    "The reason behind the decaying threshold is to ensure that the agent exploration occurs more frequently at earlier time-steps and *exploitation* occurs more frequently at later time-steps, while still maintaining a chance of *exploration* at later time-steps.\n",
    "\n",
    "## Code\n",
    "Now let's begin by setting up the `environment` and getting the sizes for both action and observation spaces."
   ]
  },
  {
   "cell_type": "code",
   "execution_count": 1,
   "id": "a1f941df",
   "metadata": {},
   "outputs": [
    {
     "name": "stdout",
     "output_type": "stream",
     "text": [
      "Requirement already satisfied: gymnasium[toy_text] in /Users/bobblite/miniconda3/envs/gymnasium/lib/python3.11/site-packages (0.29.1)\n",
      "Requirement already satisfied: numpy>=1.21.0 in /Users/bobblite/miniconda3/envs/gymnasium/lib/python3.11/site-packages (from gymnasium[toy_text]) (1.25.2)\n",
      "Requirement already satisfied: cloudpickle>=1.2.0 in /Users/bobblite/miniconda3/envs/gymnasium/lib/python3.11/site-packages (from gymnasium[toy_text]) (2.2.1)\n",
      "Requirement already satisfied: typing-extensions>=4.3.0 in /Users/bobblite/miniconda3/envs/gymnasium/lib/python3.11/site-packages (from gymnasium[toy_text]) (4.7.1)\n",
      "Requirement already satisfied: farama-notifications>=0.0.1 in /Users/bobblite/miniconda3/envs/gymnasium/lib/python3.11/site-packages (from gymnasium[toy_text]) (0.0.4)\n",
      "Requirement already satisfied: pygame>=2.1.3 in /Users/bobblite/miniconda3/envs/gymnasium/lib/python3.11/site-packages (from gymnasium[toy_text]) (2.5.1)\n",
      "Requirement already satisfied: numpy in /Users/bobblite/miniconda3/envs/gymnasium/lib/python3.11/site-packages (1.25.2)\n"
     ]
    }
   ],
   "source": [
    "!pip install 'gymnasium[toy_text]'\n",
    "!pip install 'numpy'"
   ]
  },
  {
   "cell_type": "code",
   "execution_count": 1,
   "id": "f89bc516",
   "metadata": {},
   "outputs": [],
   "source": [
    "import gymnasium as gym\n",
    "import numpy as np\n",
    "from matplotlib import pyplot as plt"
   ]
  },
  {
   "cell_type": "code",
   "execution_count": 2,
   "id": "bf2aac75",
   "metadata": {
    "scrolled": true
   },
   "outputs": [
    {
     "name": "stdout",
     "output_type": "stream",
     "text": [
      "n_observations = 500\n",
      "n_actions = 6\n"
     ]
    }
   ],
   "source": [
    "env = gym.make('Taxi-v3')\n",
    "#env = gym.make('FrozenLake-v1', desc=None, map_name=\"4x4\", is_slippery=False)\n",
    "env = gym.wrappers.TimeLimit(env, max_episode_steps=200)\n",
    "\n",
    "n_observations = env.observation_space.n\n",
    "n_actions = env.action_space.n\n",
    "\n",
    "print(f'n_observations = {n_observations}')\n",
    "print(f'n_actions = {n_actions}')"
   ]
  },
  {
   "cell_type": "markdown",
   "id": "8f875efe",
   "metadata": {},
   "source": [
    "Next we define the hyperparameters to be used."
   ]
  },
  {
   "cell_type": "code",
   "execution_count": 3,
   "id": "8d16f42a",
   "metadata": {},
   "outputs": [],
   "source": [
    "# Number of episodes to be run\n",
    "n_episodes = 10000\n",
    "\n",
    "# Number of iterations to be run\n",
    "max_iter_episode = 200\n",
    "\n",
    "exploration_probability = 1.0\n",
    "\n",
    "# decay constant to calculate new exploration probability\n",
    "decay_constant = 0.001\n",
    "\n",
    "# Exploration probabaility threshold\n",
    "exploration_threshold = 0.01\n",
    "\n",
    "# Discount factor\n",
    "gamma = 0.99\n",
    "\n",
    "# Learning rate\n",
    "alpha = 0.1"
   ]
  },
  {
   "cell_type": "markdown",
   "id": "b11c99a8",
   "metadata": {},
   "source": [
    "We also need to initialize a Q-table to track the Q-values of each state-action pairs. At the same time, we initialize a list to track the rewards received after each episode."
   ]
  },
  {
   "cell_type": "code",
   "execution_count": 4,
   "id": "a1e0136c",
   "metadata": {},
   "outputs": [],
   "source": [
    "# Q-table\n",
    "Q_table = np.zeros((n_observations, n_actions))\n",
    "\n",
    "# Track rewards after each episode\n",
    "episodic_returns = list()"
   ]
  },
  {
   "cell_type": "markdown",
   "id": "7588ee67",
   "metadata": {},
   "source": [
    "Next we define the exponential decay function which returns the new exponential decay. Recall:\n",
    "$$\n",
    "N(t) = N_0e^{-\\lambda t}\n",
    "$$\n",
    "*Where $N_0$ is the initial value and $\\lambda$ is the decay constant.*"
   ]
  },
  {
   "cell_type": "code",
   "execution_count": 5,
   "id": "35e6e9a5",
   "metadata": {},
   "outputs": [],
   "source": [
    "def calculate_exploration_prob(timestep):\n",
    "    return exploration_probability * np.exp(-decay_constant * timestep)"
   ]
  },
  {
   "cell_type": "markdown",
   "id": "c44efe8a",
   "metadata": {},
   "source": [
    "and the Q-value function which calculates the new Q-value given state-action pairs:\n",
    "$$\n",
    "q^\\text{new}(s,a) = (1-\\alpha)\\overbrace{q(s,a)}^\\text{old value} + \\alpha\\underbrace{(R_{t+1}+\\gamma\\max_{a'}q(s',a'))}_\\text{learned value}\n",
    "$$\n",
    "$\\alpha$ represents the *learning rate*, a hyperparameter which controls the convergence."
   ]
  },
  {
   "cell_type": "code",
   "execution_count": 6,
   "id": "392a0a6d",
   "metadata": {},
   "outputs": [],
   "source": [
    "def Q_function(state, action, next_reward, next_state):\n",
    "    return (1.0-alpha) * Q_table[state, action] + alpha * (next_reward + gamma * max(Q_table[next_state,:]))"
   ]
  },
  {
   "cell_type": "markdown",
   "id": "cb0c2ed3",
   "metadata": {},
   "source": [
    "Now we can define the loop where all the process happens."
   ]
  },
  {
   "cell_type": "code",
   "execution_count": 7,
   "id": "299c6331",
   "metadata": {},
   "outputs": [],
   "source": [
    "for episode in range(n_episodes):\n",
    "    # Initialize the start of each episode which returns an observation(state) and auxiliary information\n",
    "    current_state, _ = env.reset()\n",
    "    n_iterations = 0\n",
    "    \n",
    "    # Initialize variables to track if episode has ended\n",
    "    ## This is possible as we wrapped our environment with the 'TimeLimit' wrapper\n",
    "    terminated = False\n",
    "    truncated = False\n",
    "    \n",
    "    # Initialize the return in the current episode\n",
    "    current_return = 0\n",
    "    \n",
    "    while(not (terminated or truncated)):\n",
    "        # Sample a probability from a uniform distribution over 0 and 1 and compare it\n",
    "        # to the current exploration probability.\n",
    "        if np.random.uniform(0,1) < max(exploration_threshold, calculate_exploration_prob(episode)):\n",
    "            action = env.action_space.sample()\n",
    "        else:\n",
    "            action = np.argmax(Q_table[current_state,:])\n",
    "            \n",
    "        # Run the selected action in the environment\n",
    "        next_state, reward, terminated, truncated, _ = env.step(action)\n",
    "        \n",
    "        # Learning: Update Q-table using Q-Learning iteration\n",
    "        Q_table[current_state, action] = Q_function(current_state, action, reward, next_state)\n",
    "        current_return += reward\n",
    "        \n",
    "        # Set current state as next state\n",
    "        current_state = next_state\n",
    "    \n",
    "    # Decay exploration probability\n",
    "    #exploration_probability = max(exploration_threshold, calculate_exploration_prob(i))\n",
    "    # Append episodic return to logging list\n",
    "    episodic_returns.append(current_return)"
   ]
  },
  {
   "cell_type": "markdown",
   "id": "ce21a0a2",
   "metadata": {},
   "source": [
    "Here we plot the mean episodic returns for every 100 episodes to visualize the *learning* in the agent.\n",
    "*Note: We use the mean as there might be huge fluctuations in the values due to the exploration.*"
   ]
  },
  {
   "cell_type": "code",
   "execution_count": 8,
   "id": "41de68c7",
   "metadata": {},
   "outputs": [
    {
     "data": {
      "text/plain": [
       "Text(0, 0.5, 'Return')"
      ]
     },
     "execution_count": 8,
     "metadata": {},
     "output_type": "execute_result"
    },
    {
     "data": {
      "image/png": "[encoded data removed]",
      "text/plain": [
       "<Figure size 432x288 with 1 Axes>"
      ]
     },
     "metadata": {
      "needs_background": "light"
     },
     "output_type": "display_data"
    }
   ],
   "source": [
    "# Calculate mean return for every 100 episodes\n",
    "mean_episodic_returns = list()\n",
    "window_size = 100 # Sliding window concept\n",
    "for i in range(0, len(episodic_returns), window_size):\n",
    "    # Each chunk contains the next 100 values\n",
    "    chunk = episodic_returns[i:i+window_size]\n",
    "    # Compute mean and append to list\n",
    "    chunk_mean = np.mean(chunk)\n",
    "    mean_episodic_returns.append(chunk_mean)\n",
    "\n",
    "plt.plot(list(range(0, len(mean_episodic_returns))), mean_episodic_returns)\n",
    "plt.title('Episodic returns')\n",
    "plt.xlabel('Episode Index')\n",
    "plt.ylabel('Return')"
   ]
  },
  {
   "cell_type": "markdown",
   "id": "3fdffcf5",
   "metadata": {},
   "source": [
    "Based on this visualization, we can see that the performance of the agent is not efficient in the beginning but improves over episodes. Let's see how our trained agent perform in a rendered environment."
   ]
  },
  {
   "cell_type": "code",
   "execution_count": 9,
   "id": "3c0906ff",
   "metadata": {},
   "outputs": [],
   "source": [
    "rendered_env = gym.make('Taxi-v3', render_mode='human')\n",
    "\n",
    "# Single episode\n",
    "truncated = False\n",
    "terminated = False\n",
    "\n",
    "for i in range(10): # Run 10 episodes since env takes time to render\n",
    "    current_state, _ = rendered_env.reset()\n",
    "    while (not (truncated or terminated)):\n",
    "        current_state, reward, terminated, truncated, _ = rendered_env.step(np.argmax(Q_table[current_state,:]))"
   ]
  },
  {
   "cell_type": "markdown",
   "id": "18989c04",
   "metadata": {},
   "source": [
    "# Conclusion\n",
    "Q-learning algorithm is an efficient way for an agent to learn the environment, however the method that was presented here utilizes the tabular method to store Q-values. In continuous state or action spaces, this would not suffice. We will see how we are able to utilize Deep Neural Networks(DNN) to approximate the Q-function, also known as Deep Q-Learning."
   ]
  },
  {
   "cell_type": "code",
   "execution_count": null,
   "id": "3742ca62",
   "metadata": {},
   "outputs": [],
   "source": []
  }
 ],
 "metadata": {
  "kernelspec": {
   "display_name": "Python 3 (ipykernel)",
   "language": "python",
   "name": "python3"
  },
  "language_info": {
   "codemirror_mode": {
    "name": "ipython",
    "version": 3
   },
   "file_extension": ".py",
   "mimetype": "text/x-python",
   "name": "python",
   "nbconvert_exporter": "python",
   "pygments_lexer": "ipython3",
   "version": "3.11.5"
  }
 },
 "nbformat": 4,
 "nbformat_minor": 5
}
